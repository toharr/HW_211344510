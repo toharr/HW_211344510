{
 "cells": [
  {
   "cell_type": "code",
   "execution_count": 1,
   "id": "098971da-eca6-42e8-86b2-e8f69fbc767e",
   "metadata": {},
   "outputs": [],
   "source": [
    "import requests\n",
    "import re\n",
    "import json\n",
    "import pandas as pd\n",
    "import numpy as np\n",
    "import urllib"
   ]
  },
  {
   "cell_type": "code",
   "execution_count": 44,
   "id": "ee31ded7-7b09-4634-84f0-0c982f98e346",
   "metadata": {},
   "outputs": [],
   "source": [
    "#קריאת קבצים\n",
    "f_name = open(\"dests.txt\")\n",
    "#דאטה\n",
    "new_data = {'city': [], 'ditance': [],'time':[], 'lang': [], 'lat': []}\n",
    "df = pd.DataFrame(new_data)\n",
    "Serviceurl = 'https://maps.googleapis.com/maps/api/distancematrix/json?'\n",
    "parms = dict() \n",
    "parms[\"origins\"]= \"תל אביב\"\n",
    "parms['key'] =api_key = '######'\n",
    "#מיכוון שמדובר על מספר מקומות שרשומים בצורה נכונה לא הוספתי TRY  \n",
    "for line in f_name:\n",
    "    line = line.rstrip()\n",
    "    parms['destinations'] = address = line\n",
    "    url = Serviceurl + urllib.parse.urlencode(parms)\n",
    "    url_2=\"https://maps.googleapis.com/maps/api/geocode/json?address=%s&key=%s\" % (address,api_key)\n",
    "    response = requests.get(url).json()\n",
    "    response_data = requests.get(url_2).json()    \n",
    "    lat=response_data['results'][0]['geometry']['location'][\"lat\"]\n",
    "    lng=response_data['results'][0]['geometry']['location'][\"lng\"]\n",
    "    time= response['rows'][0]['elements'][0]['duration']['value']#זמן נסיעה\n",
    "    distance=response['rows'][0]['elements'][0]['distance']['text']#נותן מרחק\n",
    "    finel_time=str(int(int(float(time)/60)/60)) + \" hour ,\"+str(int(float(time)/60)%60)+\" second\"\n",
    "    df.loc[len(df)] = [line,distance,str(finel_time), lng,lat]#i לא מספר\n",
    "  "
   ]
  },
  {
   "cell_type": "code",
   "execution_count": 45,
   "id": "bd7991ca-cb7e-46a5-820f-6b7ccebfee6e",
   "metadata": {},
   "outputs": [
    {
     "data": {
      "text/html": [
       "<div>\n",
       "<style scoped>\n",
       "    .dataframe tbody tr th:only-of-type {\n",
       "        vertical-align: middle;\n",
       "    }\n",
       "\n",
       "    .dataframe tbody tr th {\n",
       "        vertical-align: top;\n",
       "    }\n",
       "\n",
       "    .dataframe thead th {\n",
       "        text-align: right;\n",
       "    }\n",
       "</style>\n",
       "<table border=\"1\" class=\"dataframe\">\n",
       "  <thead>\n",
       "    <tr style=\"text-align: right;\">\n",
       "      <th></th>\n",
       "      <th>city</th>\n",
       "      <th>ditance</th>\n",
       "      <th>time</th>\n",
       "      <th>lang</th>\n",
       "      <th>lat</th>\n",
       "    </tr>\n",
       "  </thead>\n",
       "  <tbody>\n",
       "    <tr>\n",
       "      <th>0</th>\n",
       "      <td>Istanbul</td>\n",
       "      <td>1,815 km</td>\n",
       "      <td>21 hour ,2 second</td>\n",
       "      <td>28.978359</td>\n",
       "      <td>41.008238</td>\n",
       "    </tr>\n",
       "    <tr>\n",
       "      <th>1</th>\n",
       "      <td>Amsterdam</td>\n",
       "      <td>4,533 km</td>\n",
       "      <td>48 hour ,3 second</td>\n",
       "      <td>4.904139</td>\n",
       "      <td>52.367573</td>\n",
       "    </tr>\n",
       "    <tr>\n",
       "      <th>2</th>\n",
       "      <td>Valletta</td>\n",
       "      <td>3,793 km</td>\n",
       "      <td>50 hour ,50 second</td>\n",
       "      <td>14.514100</td>\n",
       "      <td>35.899237</td>\n",
       "    </tr>\n",
       "    <tr>\n",
       "      <th>3</th>\n",
       "      <td>Basel</td>\n",
       "      <td>4,093 km</td>\n",
       "      <td>44 hour ,2 second</td>\n",
       "      <td>7.588576</td>\n",
       "      <td>47.559599</td>\n",
       "    </tr>\n",
       "    <tr>\n",
       "      <th>4</th>\n",
       "      <td>Doha</td>\n",
       "      <td>2,164 km</td>\n",
       "      <td>22 hour ,38 second</td>\n",
       "      <td>51.531040</td>\n",
       "      <td>25.285447</td>\n",
       "    </tr>\n",
       "  </tbody>\n",
       "</table>\n",
       "</div>"
      ],
      "text/plain": [
       "        city   ditance                time       lang        lat\n",
       "0   Istanbul  1,815 km   21 hour ,2 second  28.978359  41.008238\n",
       "1  Amsterdam  4,533 km   48 hour ,3 second   4.904139  52.367573\n",
       "2   Valletta  3,793 km  50 hour ,50 second  14.514100  35.899237\n",
       "3      Basel  4,093 km   44 hour ,2 second   7.588576  47.559599\n",
       "4       Doha  2,164 km  22 hour ,38 second  51.531040  25.285447"
      ]
     },
     "execution_count": 45,
     "metadata": {},
     "output_type": "execute_result"
    }
   ],
   "source": [
    "df"
   ]
  },
  {
   "cell_type": "code",
   "execution_count": 46,
   "id": "d5661cf6-76ca-4695-9e33-699c3f164561",
   "metadata": {},
   "outputs": [
    {
     "data": {
      "text/plain": [
       "1    Amsterdam\n",
       "3        Basel\n",
       "2     Valletta\n",
       "Name: city, dtype: object"
      ]
     },
     "execution_count": 46,
     "metadata": {},
     "output_type": "execute_result"
    }
   ],
   "source": [
    "#Q2\n",
    "df=df.sort_values('ditance', ascending= False)\n",
    "df.head(3)[\"city\"]"
   ]
  },
  {
   "cell_type": "code",
   "execution_count": null,
   "id": "d8a4bf3a-7fa4-414e-abd9-ba996e6dbc4a",
   "metadata": {},
   "outputs": [],
   "source": []
  }
 ],
 "metadata": {
  "kernelspec": {
   "display_name": "Python 3 (ipykernel)",
   "language": "python",
   "name": "python3"
  },
  "language_info": {
   "codemirror_mode": {
    "name": "ipython",
    "version": 3
   },
   "file_extension": ".py",
   "mimetype": "text/x-python",
   "name": "python",
   "nbconvert_exporter": "python",
   "pygments_lexer": "ipython3",
   "version": "3.9.6"
  }
 },
 "nbformat": 4,
 "nbformat_minor": 5
}
