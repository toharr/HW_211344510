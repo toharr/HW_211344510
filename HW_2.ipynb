{
 "cells": [
  {
   "cell_type": "code",
   "execution_count": 1,
   "id": "88a5fc98-3686-474b-bed7-0abca9831ef4",
   "metadata": {},
   "outputs": [],
   "source": [
    "import re\n",
    "import pandas as pd\n",
    "import numpy as np\n",
    "import datetime\n",
    "import seaborn as sns\n",
    "import matplotlib.pyplot as plt"
   ]
  },
  {
   "cell_type": "code",
   "execution_count": 2,
   "id": "8ab82186-c0df-4932-bebd-1d2a92c75442",
   "metadata": {},
   "outputs": [
    {
     "name": "stderr",
     "output_type": "stream",
     "text": [
      "C:\\Users\\tohar\\AppData\\Roaming\\Python\\Python39\\site-packages\\IPython\\core\\interactiveshell.py:3441: DtypeWarning: Columns (6) have mixed types.Specify dtype option on import or set low_memory=False.\n",
      "  exec(code_obj, self.user_global_ns, self.user_ns)\n"
     ]
    }
   ],
   "source": [
    "data = pd.read_csv('matala2_cosmetics_2019-Nov.csv')\n",
    "df = pd.DataFrame(data)"
   ]
  },
  {
   "cell_type": "code",
   "execution_count": 6,
   "id": "225bf179-1791-46d6-addb-813b0bc3b577",
   "metadata": {},
   "outputs": [],
   "source": [
    "#Q1\n",
    "df['event_time'] = df['event_time'].apply(lambda x: datetime.datetime.strptime(x,'%Y-%m-%d %H:%M:%S UTC'))\n",
    "df['event_time']= pd.to_datetime(df.event_time)\n",
    "df.sort_values([\"user_id\",\"user_session\", \"event_time\"], inplace=True)#\n",
    "df['second'] = pd.DatetimeIndex(df.event_time).second+(pd.DatetimeIndex(df.event_time).minute *60)\n",
    "df['duration_to_next_event'] = df.groupby([\"user_session\"])['second'].diff().shift(-1).fillna(0)"
   ]
  },
  {
   "cell_type": "code",
   "execution_count": 12,
   "id": "52da958c-b945-4406-9da0-1a44906f9bc0",
   "metadata": {},
   "outputs": [
    {
     "data": {
      "text/plain": [
       "1         1\n",
       "4         1\n",
       "5         1\n",
       "18        1\n",
       "20        1\n",
       "         ..\n",
       "53        1\n",
       "55        1\n",
       "56        1\n",
       "80        1\n",
       "347434    3\n",
       "Name: day_event_time, Length: 102, dtype: int64"
      ]
     },
     "execution_count": 12,
     "metadata": {},
     "output_type": "execute_result"
    }
   ],
   "source": [
    "#Q2\n",
    "df['day_event_time'] = pd.DatetimeIndex(df.event_time).day\n",
    "df['days_apart']= df.groupby([\"user_id\",\"user_session\"])['day_event_time'].diff(periods=-1)\n",
    "df['days_apart'] = df['days_apart'].apply(lambda x: x*-1)\n",
    "#ביקשתי שימספר את העמודה עבור פער של 5 ימים או נאל (האחרון  הוא נאל כי אין מול מי לעשות את ההפרש ולאחר מכן מילאתי נתונים חסרים עבור הערך האחרון \n",
    "df[\"funnel_number\"] = df.loc[(df.days_apart >=5) | (df.days_apart.isnull() ) ].groupby([\"user_id\",\"user_session\"])['days_apart'].cumcount()+1\n",
    "df[\"funnel_number\"] = df.groupby([\"user_id\",\"user_session\"])[\"funnel_number\"].apply(lambda x: x.fillna(method='bfill'))#מילוי נתונים חסרים\n",
    "\n"
   ]
  },
  {
   "cell_type": "code",
   "execution_count": 26,
   "id": "e80ab408-e199-4e91-8709-90a26b446279",
   "metadata": {},
   "outputs": [
    {
     "data": {
      "text/html": [
       "<div>\n",
       "<style scoped>\n",
       "    .dataframe tbody tr th:only-of-type {\n",
       "        vertical-align: middle;\n",
       "    }\n",
       "\n",
       "    .dataframe tbody tr th {\n",
       "        vertical-align: top;\n",
       "    }\n",
       "\n",
       "    .dataframe thead th {\n",
       "        text-align: right;\n",
       "    }\n",
       "</style>\n",
       "<table border=\"1\" class=\"dataframe\">\n",
       "  <thead>\n",
       "    <tr style=\"text-align: right;\">\n",
       "      <th></th>\n",
       "      <th>user_id</th>\n",
       "      <th>user_session</th>\n",
       "      <th>funnel_number</th>\n",
       "      <th>index_in_funnel</th>\n",
       "    </tr>\n",
       "  </thead>\n",
       "  <tbody>\n",
       "    <tr>\n",
       "      <th>1</th>\n",
       "      <td>553329724</td>\n",
       "      <td>2067216c-31b5-455d-a1cc-af0575a34ffb</td>\n",
       "      <td>1.0</td>\n",
       "      <td>NaN</td>\n",
       "    </tr>\n",
       "    <tr>\n",
       "      <th>4</th>\n",
       "      <td>553329724</td>\n",
       "      <td>2067216c-31b5-455d-a1cc-af0575a34ffb</td>\n",
       "      <td>1.0</td>\n",
       "      <td>NaN</td>\n",
       "    </tr>\n",
       "    <tr>\n",
       "      <th>5</th>\n",
       "      <td>553329724</td>\n",
       "      <td>2067216c-31b5-455d-a1cc-af0575a34ffb</td>\n",
       "      <td>1.0</td>\n",
       "      <td>NaN</td>\n",
       "    </tr>\n",
       "    <tr>\n",
       "      <th>18</th>\n",
       "      <td>553329724</td>\n",
       "      <td>2067216c-31b5-455d-a1cc-af0575a34ffb</td>\n",
       "      <td>1.0</td>\n",
       "      <td>NaN</td>\n",
       "    </tr>\n",
       "    <tr>\n",
       "      <th>20</th>\n",
       "      <td>553329724</td>\n",
       "      <td>2067216c-31b5-455d-a1cc-af0575a34ffb</td>\n",
       "      <td>1.0</td>\n",
       "      <td>NaN</td>\n",
       "    </tr>\n",
       "    <tr>\n",
       "      <th>27</th>\n",
       "      <td>553329724</td>\n",
       "      <td>2067216c-31b5-455d-a1cc-af0575a34ffb</td>\n",
       "      <td>1.0</td>\n",
       "      <td>NaN</td>\n",
       "    </tr>\n",
       "    <tr>\n",
       "      <th>35</th>\n",
       "      <td>553329724</td>\n",
       "      <td>2067216c-31b5-455d-a1cc-af0575a34ffb</td>\n",
       "      <td>1.0</td>\n",
       "      <td>NaN</td>\n",
       "    </tr>\n",
       "    <tr>\n",
       "      <th>37</th>\n",
       "      <td>553329724</td>\n",
       "      <td>2067216c-31b5-455d-a1cc-af0575a34ffb</td>\n",
       "      <td>1.0</td>\n",
       "      <td>NaN</td>\n",
       "    </tr>\n",
       "    <tr>\n",
       "      <th>39</th>\n",
       "      <td>553329724</td>\n",
       "      <td>2067216c-31b5-455d-a1cc-af0575a34ffb</td>\n",
       "      <td>1.0</td>\n",
       "      <td>NaN</td>\n",
       "    </tr>\n",
       "    <tr>\n",
       "      <th>41</th>\n",
       "      <td>553329724</td>\n",
       "      <td>2067216c-31b5-455d-a1cc-af0575a34ffb</td>\n",
       "      <td>1.0</td>\n",
       "      <td>NaN</td>\n",
       "    </tr>\n",
       "    <tr>\n",
       "      <th>44</th>\n",
       "      <td>553329724</td>\n",
       "      <td>2067216c-31b5-455d-a1cc-af0575a34ffb</td>\n",
       "      <td>1.0</td>\n",
       "      <td>NaN</td>\n",
       "    </tr>\n",
       "    <tr>\n",
       "      <th>47</th>\n",
       "      <td>553329724</td>\n",
       "      <td>2067216c-31b5-455d-a1cc-af0575a34ffb</td>\n",
       "      <td>1.0</td>\n",
       "      <td>1.0</td>\n",
       "    </tr>\n",
       "    <tr>\n",
       "      <th>60940</th>\n",
       "      <td>553329724</td>\n",
       "      <td>42d44606-cb64-46f4-9203-06dfe02d51e3</td>\n",
       "      <td>1.0</td>\n",
       "      <td>NaN</td>\n",
       "    </tr>\n",
       "    <tr>\n",
       "      <th>61064</th>\n",
       "      <td>553329724</td>\n",
       "      <td>42d44606-cb64-46f4-9203-06dfe02d51e3</td>\n",
       "      <td>1.0</td>\n",
       "      <td>NaN</td>\n",
       "    </tr>\n",
       "    <tr>\n",
       "      <th>61205</th>\n",
       "      <td>553329724</td>\n",
       "      <td>42d44606-cb64-46f4-9203-06dfe02d51e3</td>\n",
       "      <td>1.0</td>\n",
       "      <td>2.0</td>\n",
       "    </tr>\n",
       "    <tr>\n",
       "      <th>61330</th>\n",
       "      <td>553329724</td>\n",
       "      <td>5f68ffad-bc7e-46ef-827d-8e67b97d5267</td>\n",
       "      <td>1.0</td>\n",
       "      <td>NaN</td>\n",
       "    </tr>\n",
       "    <tr>\n",
       "      <th>61344</th>\n",
       "      <td>553329724</td>\n",
       "      <td>5f68ffad-bc7e-46ef-827d-8e67b97d5267</td>\n",
       "      <td>1.0</td>\n",
       "      <td>3.0</td>\n",
       "    </tr>\n",
       "    <tr>\n",
       "      <th>13563</th>\n",
       "      <td>553329724</td>\n",
       "      <td>69b84261-c592-4980-89ae-dcd7b761f51f</td>\n",
       "      <td>1.0</td>\n",
       "      <td>NaN</td>\n",
       "    </tr>\n",
       "    <tr>\n",
       "      <th>13731</th>\n",
       "      <td>553329724</td>\n",
       "      <td>69b84261-c592-4980-89ae-dcd7b761f51f</td>\n",
       "      <td>1.0</td>\n",
       "      <td>NaN</td>\n",
       "    </tr>\n",
       "    <tr>\n",
       "      <th>13745</th>\n",
       "      <td>553329724</td>\n",
       "      <td>69b84261-c592-4980-89ae-dcd7b761f51f</td>\n",
       "      <td>1.0</td>\n",
       "      <td>NaN</td>\n",
       "    </tr>\n",
       "  </tbody>\n",
       "</table>\n",
       "</div>"
      ],
      "text/plain": [
       "         user_id                          user_session  funnel_number  \\\n",
       "1      553329724  2067216c-31b5-455d-a1cc-af0575a34ffb            1.0   \n",
       "4      553329724  2067216c-31b5-455d-a1cc-af0575a34ffb            1.0   \n",
       "5      553329724  2067216c-31b5-455d-a1cc-af0575a34ffb            1.0   \n",
       "18     553329724  2067216c-31b5-455d-a1cc-af0575a34ffb            1.0   \n",
       "20     553329724  2067216c-31b5-455d-a1cc-af0575a34ffb            1.0   \n",
       "27     553329724  2067216c-31b5-455d-a1cc-af0575a34ffb            1.0   \n",
       "35     553329724  2067216c-31b5-455d-a1cc-af0575a34ffb            1.0   \n",
       "37     553329724  2067216c-31b5-455d-a1cc-af0575a34ffb            1.0   \n",
       "39     553329724  2067216c-31b5-455d-a1cc-af0575a34ffb            1.0   \n",
       "41     553329724  2067216c-31b5-455d-a1cc-af0575a34ffb            1.0   \n",
       "44     553329724  2067216c-31b5-455d-a1cc-af0575a34ffb            1.0   \n",
       "47     553329724  2067216c-31b5-455d-a1cc-af0575a34ffb            1.0   \n",
       "60940  553329724  42d44606-cb64-46f4-9203-06dfe02d51e3            1.0   \n",
       "61064  553329724  42d44606-cb64-46f4-9203-06dfe02d51e3            1.0   \n",
       "61205  553329724  42d44606-cb64-46f4-9203-06dfe02d51e3            1.0   \n",
       "61330  553329724  5f68ffad-bc7e-46ef-827d-8e67b97d5267            1.0   \n",
       "61344  553329724  5f68ffad-bc7e-46ef-827d-8e67b97d5267            1.0   \n",
       "13563  553329724  69b84261-c592-4980-89ae-dcd7b761f51f            1.0   \n",
       "13731  553329724  69b84261-c592-4980-89ae-dcd7b761f51f            1.0   \n",
       "13745  553329724  69b84261-c592-4980-89ae-dcd7b761f51f            1.0   \n",
       "\n",
       "       index_in_funnel  \n",
       "1                  NaN  \n",
       "4                  NaN  \n",
       "5                  NaN  \n",
       "18                 NaN  \n",
       "20                 NaN  \n",
       "27                 NaN  \n",
       "35                 NaN  \n",
       "37                 NaN  \n",
       "39                 NaN  \n",
       "41                 NaN  \n",
       "44                 NaN  \n",
       "47                 1.0  \n",
       "60940              NaN  \n",
       "61064              NaN  \n",
       "61205              2.0  \n",
       "61330              NaN  \n",
       "61344              3.0  \n",
       "13563              NaN  \n",
       "13731              NaN  \n",
       "13745              NaN  "
      ]
     },
     "execution_count": 26,
     "metadata": {},
     "output_type": "execute_result"
    }
   ],
   "source": [
    "#Q3\n",
    "df[\"index_in_funnel\"] = df.loc[(df.days_apart >=5) | (df.days_apart.isnull() ) ].groupby([\"user_id\"])[\"funnel_number\"].cumcount()+1\n",
    "df[\"index_in_funnel\"] = df.groupby([\"user_id\",\"user_session\"])[\"index_in_funnel\"].apply(lambda x: x.fillna(method='bfill'))"
   ]
  },
  {
   "cell_type": "code",
   "execution_count": 66,
   "id": "6af7a4ed-59e3-4553-a00b-1fbb5c7491df",
   "metadata": {},
   "outputs": [],
   "source": [
    "#Q4 \n",
    "#עבור כל איבר ברשימה ביקשתי למצוא מספר (אחד או יותר) , נקודה  ואחריו עוד מספר\n",
    "#וכך במקרה והיה סימן כלשהו הוא לא יכלל בעמודה החדשה\n",
    "my_list=df[\"price\"].to_list ()\n",
    "y=re.findall('[0-9]+\\.[0-9]+',str(my_list))\n",
    "df[\"price\"]=y\n",
    "df[\"price\"]=df[\"price\"].astype(float)"
   ]
  },
  {
   "cell_type": "code",
   "execution_count": 69,
   "id": "a40bab3a-77cc-4dde-9c08-5b905b108a4d",
   "metadata": {},
   "outputs": [
    {
     "data": {
      "text/plain": [
       "<AxesSubplot:xlabel='event_type', ylabel='count'>"
      ]
     },
     "execution_count": 69,
     "metadata": {},
     "output_type": "execute_result"
    },
    {
     "data": {
      "image/png": "[encoded data removed]",
      "text/plain": [
       "<Figure size 432x288 with 1 Axes>"
      ]
     },
     "metadata": {
      "needs_background": "light"
     },
     "output_type": "display_data"
    }
   ],
   "source": [
    "#Q5\n",
    "sns.countplot(x=df[\"event_type\"])"
   ]
  },
  {
   "cell_type": "code",
   "execution_count": null,
   "id": "6eb3c18e-61db-4738-9648-f4132ca4cd51",
   "metadata": {},
   "outputs": [],
   "source": [
    "#Q6\n",
    "session_data=df.groupby([\"user_id\",\"user_session\",\"funnel_number\"])[\"event_time\"].agg(['first','last']).reset_index().copy()#נותן עמודה של ראשון ואחרון\n",
    "session_data['time_visit'] =session_data['last']-session_data['first']#משך הביקור\n",
    "session_data[\"index_in_funnel\"]=df.groupby(\"user_session\").mean().reset_index().loc[:,[\"index_in_funnel\"]]\n",
    "#מספר אירועים כוללשל המשתמש באותו ביקור\n",
    "session_data[\"num_event\"]=df.groupby(\"user_session\").size().reset_index(name=\"num_event\").loc[:,[\"num_event\"]]\n",
    "#רק מוצרים שנצפו\n",
    "session_data['list_of_view']=df.loc[(df.event_type ==\"view\")].groupby('user_session')['product_id'].apply(list).reset_index().copy().loc[:,['product_id']]\n",
    "#רשימת מוצרים שנוספו לעגלה בביקור \n",
    "session_data['list_of_add_to_cart']=df.loc[(df.event_type ==\"cart\")].groupby('user_session')['product_id'].apply(list).reset_index().copy().loc[:,['product_id']]\n",
    "#כדי למצוא את מספר המוצרים שנרכשו נמצא את מה שהוסר ונוריד אותו ממה שנכנס לעגלה\n",
    "session_data['remove']=df.loc[(df.event_type ==\"remove_from_cart\")].groupby('user_session')['product_id'].apply(list).reset_index().copy().loc[:,['product_id']]\n",
    "#מוצרים שנרכשן\n",
    "session_data[\"list_of_purchased\"]=session_data['list_of_add_to_cart']-session_data['remove']\n"
   ]
  }
 ],
 "metadata": {
  "kernelspec": {
   "display_name": "Python 3 (ipykernel)",
   "language": "python",
   "name": "python3"
  },
  "language_info": {
   "codemirror_mode": {
    "name": "ipython",
    "version": 3
   },
   "file_extension": ".py",
   "mimetype": "text/x-python",
   "name": "python",
   "nbconvert_exporter": "python",
   "pygments_lexer": "ipython3",
   "version": "3.9.6"
  }
 },
 "nbformat": 4,
 "nbformat_minor": 5
}
